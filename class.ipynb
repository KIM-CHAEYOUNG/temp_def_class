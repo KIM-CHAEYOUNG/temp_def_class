{
  "nbformat": 4,
  "nbformat_minor": 0,
  "metadata": {
    "colab": {
      "name": "class.ipynb",
      "provenance": [],
      "authorship_tag": "ABX9TyMiB7b8oOyesBy9wile4SrC",
      "include_colab_link": true
    },
    "kernelspec": {
      "name": "python3",
      "display_name": "Python 3"
    }
  },
  "cells": [
    {
      "cell_type": "markdown",
      "metadata": {
        "id": "view-in-github",
        "colab_type": "text"
      },
      "source": [
        "<a href=\"https://colab.research.google.com/github/KIM-CHAEYOUNG/temp_def_class/blob/master/class.ipynb\" target=\"_parent\"><img src=\"https://colab.research.google.com/assets/colab-badge.svg\" alt=\"Open In Colab\"/></a>"
      ]
    },
    {
      "cell_type": "markdown",
      "metadata": {
        "id": "yWY22JXJKdqH",
        "colab_type": "text"
      },
      "source": [
        "# 클래스\n",
        "- 함수와 유사함\n",
        "- 비슷한 코드를 반복적을 사용\n",
        "- '클래스'는 붕어빵 틀\n",
        "- [ML with Class](https://chloevan.github.io/python/python_edu/01_basic/chapter_3_7_class/)"
      ]
    },
    {
      "cell_type": "code",
      "metadata": {
        "id": "NzfXc00qPIoE",
        "colab_type": "code",
        "colab": {
          "base_uri": "https://localhost:8080/",
          "height": 53
        },
        "outputId": "06380bec-5c34-46e2-d200-07c85ebeab57"
      },
      "source": [
        "result = 0\n",
        "def add(num):\n",
        "  global result\n",
        "  result += num\n",
        "  return result\n",
        "\n",
        "print(add(10))\n",
        "print(add(20))"
      ],
      "execution_count": 3,
      "outputs": [
        {
          "output_type": "stream",
          "text": [
            "10\n",
            "30\n"
          ],
          "name": "stdout"
        }
      ]
    },
    {
      "cell_type": "code",
      "metadata": {
        "id": "j8_8J76KPN3M",
        "colab_type": "code",
        "colab": {
          "base_uri": "https://localhost:8080/",
          "height": 89
        },
        "outputId": "98a59c61-3499-458e-927d-ed15efdce3c5"
      },
      "source": [
        "result1 = 0\n",
        "result2 = 0\n",
        "\n",
        "def add1(num):\n",
        "  global result1\n",
        "  result1 += num\n",
        "  return result1\n",
        "\n",
        "def add2(num):\n",
        "  global result2\n",
        "  result2 += num\n",
        "  return result2\n",
        "\n",
        "print(add1(10))\n",
        "print(add1(20))\n",
        "print(add2(10))\n",
        "print(add2(10))"
      ],
      "execution_count": 4,
      "outputs": [
        {
          "output_type": "stream",
          "text": [
            "10\n",
            "30\n",
            "10\n",
            "20\n"
          ],
          "name": "stdout"
        }
      ]
    },
    {
      "cell_type": "code",
      "metadata": {
        "id": "6KK9rbx7PIw2",
        "colab_type": "code",
        "colab": {}
      },
      "source": [
        "class Human:\n",
        "  name = \"Rain\" # 필드\n",
        "  age = 30 # 필드\n",
        "  \n",
        "  def exercise(self): # 메서드(Method), 객체가 할 수 있는 행동(=객체가 할 수 있는 함수)\n",
        "  \n",
        "    print(\"운동합시다\")"
      ],
      "execution_count": 5,
      "outputs": []
    },
    {
      "cell_type": "code",
      "metadata": {
        "id": "82Ah8FyAKaCx",
        "colab_type": "code",
        "colab": {
          "base_uri": "https://localhost:8080/",
          "height": 53
        },
        "outputId": "65f70987-df48-45ae-8a50-2c65c24d89c4"
      },
      "source": [
        "result = 0\n",
        "def add(num):\n",
        "  global result\n",
        "  result += num\n",
        "  return result\n",
        "\n",
        "print(add(10 "
      ],
      "execution_count": 2,
      "outputs": [
        {
          "output_type": "stream",
          "text": [
            "10\n",
            "30\n"
          ],
          "name": "stdout"
        }
      ]
    },
    {
      "cell_type": "markdown",
      "metadata": {
        "id": "hwjQGVRtZyK2",
        "colab_type": "text"
      },
      "source": [
        "# ML 클래스 "
      ]
    },
    {
      "cell_type": "code",
      "metadata": {
        "id": "tH68b3gyM_Fl",
        "colab_type": "code",
        "colab": {
          "base_uri": "https://localhost:8080/",
          "height": 145
        },
        "outputId": "9ac4ff9b-ddc6-4480-f9bc-f08d7d8f671b"
      },
      "source": [
        "from google.colab import drive\n",
        "\n",
        "ROOT = \"/content/drive\"     # default location for the drive #\n",
        "print(ROOT)                 # print content of ROOT (Optional)\n",
        "drive.mount(ROOT)   "
      ],
      "execution_count": 6,
      "outputs": [
        {
          "output_type": "stream",
          "text": [
            "/content/drive\n",
            "Go to this URL in a browser: https://accounts.google.com/o/oauth2/auth?client_id=947318989803-6bn6qk8qdgf4n4g3pfee6491hc0brc4i.apps.googleusercontent.com&redirect_uri=urn%3aietf%3awg%3aoauth%3a2.0%3aoob&scope=email%20https%3a%2f%2fwww.googleapis.com%2fauth%2fdocs.test%20https%3a%2f%2fwww.googleapis.com%2fauth%2fdrive%20https%3a%2f%2fwww.googleapis.com%2fauth%2fdrive.photos.readonly%20https%3a%2f%2fwww.googleapis.com%2fauth%2fpeopleapi.readonly&response_type=code\n",
            "\n",
            "Enter your authorization code:\n",
            "··········\n",
            "Mounted at /content/drive\n"
          ],
          "name": "stdout"
        }
      ]
    },
    {
      "cell_type": "code",
      "metadata": {
        "id": "6ACRkElPaSuS",
        "colab_type": "code",
        "colab": {}
      },
      "source": [
        "from os.path import join  \n",
        "\n",
        "# path to your project on Google Drive\n",
        "MY_GOOGLE_DRIVE_PATH = 'My Drive/DL_data'\n",
        "PROJECT_PATH = join(ROOT, MY_GOOGLE_DRIVE_PATH)"
      ],
      "execution_count": 7,
      "outputs": []
    },
    {
      "cell_type": "code",
      "metadata": {
        "id": "28VrWJKIaq89",
        "colab_type": "code",
        "colab": {
          "base_uri": "https://localhost:8080/",
          "height": 53
        },
        "outputId": "58e63d6b-1d9d-4b15-fd93-6afb342f866a"
      },
      "source": [
        "%cd \"{PROJECT_PATH}\"\n",
        "!ls"
      ],
      "execution_count": 8,
      "outputs": [
        {
          "output_type": "stream",
          "text": [
            "/content/drive/My Drive/DL_data\n",
            "weather2.csv  weather.csv\n"
          ],
          "name": "stdout"
        }
      ]
    },
    {
      "cell_type": "markdown",
      "metadata": {
        "id": "GFkzM7KOa4RT",
        "colab_type": "text"
      },
      "source": [
        "# 두 개의 서로 다른 데이터 확인\n",
        "- 각각의 데이터의 컬럼명이 어떻게 다른지 확인"
      ]
    },
    {
      "cell_type": "code",
      "metadata": {
        "id": "o1iM7kCgOtO-",
        "colab_type": "code",
        "colab": {
          "base_uri": "https://localhost:8080/",
          "height": 359
        },
        "outputId": "caa06240-16ef-4a37-da7d-1887d5368021"
      },
      "source": [
        "import pandas as pd\n",
        "\n",
        "data = pd.read_csv(\"weather.csv\")\n",
        "data.info()"
      ],
      "execution_count": 10,
      "outputs": [
        {
          "output_type": "stream",
          "text": [
            "<class 'pandas.core.frame.DataFrame'>\n",
            "RangeIndex: 96453 entries, 0 to 96452\n",
            "Data columns (total 12 columns):\n",
            " #   Column                    Non-Null Count  Dtype  \n",
            "---  ------                    --------------  -----  \n",
            " 0   Formatted Date            96453 non-null  object \n",
            " 1   Summary                   96453 non-null  object \n",
            " 2   Precip Type               95936 non-null  object \n",
            " 3   Temperature (C)           96453 non-null  float64\n",
            " 4   Apparent Temperature (C)  96453 non-null  float64\n",
            " 5   Humidity                  96453 non-null  float64\n",
            " 6   Wind Speed (km/h)         96453 non-null  float64\n",
            " 7   Wind Bearing (degrees)    96453 non-null  float64\n",
            " 8   Visibility (km)           96453 non-null  float64\n",
            " 9   Loud Cover                96453 non-null  float64\n",
            " 10  Pressure (millibars)      96453 non-null  float64\n",
            " 11  Daily Summary             96453 non-null  object \n",
            "dtypes: float64(8), object(4)\n",
            "memory usage: 8.8+ MB\n"
          ],
          "name": "stdout"
        }
      ]
    },
    {
      "cell_type": "code",
      "metadata": {
        "id": "FnY-8QhpbCqz",
        "colab_type": "code",
        "colab": {
          "base_uri": "https://localhost:8080/",
          "height": 233
        },
        "outputId": "29b58eb5-c620-4beb-ed6c-37252c0fa6f7"
      },
      "source": [
        "data_columns = data.columns.tolist()\n",
        "data_columns"
      ],
      "execution_count": 11,
      "outputs": [
        {
          "output_type": "execute_result",
          "data": {
            "text/plain": [
              "['Formatted Date',\n",
              " 'Summary',\n",
              " 'Precip Type',\n",
              " 'Temperature (C)',\n",
              " 'Apparent Temperature (C)',\n",
              " 'Humidity',\n",
              " 'Wind Speed (km/h)',\n",
              " 'Wind Bearing (degrees)',\n",
              " 'Visibility (km)',\n",
              " 'Loud Cover',\n",
              " 'Pressure (millibars)',\n",
              " 'Daily Summary']"
            ]
          },
          "metadata": {
            "tags": []
          },
          "execution_count": 11
        }
      ]
    },
    {
      "cell_type": "code",
      "metadata": {
        "id": "7SnzSrwYbK0N",
        "colab_type": "code",
        "colab": {
          "base_uri": "https://localhost:8080/",
          "height": 359
        },
        "outputId": "1900877a-747c-4937-885d-a62af764e003"
      },
      "source": [
        "data2 = pd.read_csv(\"weather2.csv\")\n",
        "data2.info()"
      ],
      "execution_count": 12,
      "outputs": [
        {
          "output_type": "stream",
          "text": [
            "<class 'pandas.core.frame.DataFrame'>\n",
            "RangeIndex: 10000 entries, 0 to 9999\n",
            "Data columns (total 12 columns):\n",
            " #   Column                    Non-Null Count  Dtype  \n",
            "---  ------                    --------------  -----  \n",
            " 0   Formatted.Date            10000 non-null  object \n",
            " 1   Summary                   10000 non-null  object \n",
            " 2   Precip.Type               10000 non-null  object \n",
            " 3   Temperature..C.           10000 non-null  float64\n",
            " 4   Apparent.Temperature..C.  10000 non-null  float64\n",
            " 5   Humidity                  10000 non-null  float64\n",
            " 6   Wind.Speed..km.h.         10000 non-null  float64\n",
            " 7   Wind.Bearing..degrees.    10000 non-null  int64  \n",
            " 8   Visibility..km.           10000 non-null  float64\n",
            " 9   Loud.Cover                10000 non-null  int64  \n",
            " 10  Pressure..millibars.      10000 non-null  float64\n",
            " 11  Daily.Summary             10000 non-null  object \n",
            "dtypes: float64(6), int64(2), object(4)\n",
            "memory usage: 937.6+ KB\n"
          ],
          "name": "stdout"
        }
      ]
    },
    {
      "cell_type": "markdown",
      "metadata": {
        "id": "-DKR2evEbNiR",
        "colab_type": "text"
      },
      "source": [
        "##### 현재 문제점\n",
        "- 데이터 weather vs weather2\n",
        "  + 컬럼명이 다른 상태\n",
        "  + 이 차이를 어떻게 할 것인가"
      ]
    },
    {
      "cell_type": "code",
      "metadata": {
        "id": "Tn3G-kCXbMg2",
        "colab_type": "code",
        "colab": {}
      },
      "source": [
        "from sklearn.ensemble import RandomForestRegressor\n",
        "from sklearn.linear_model import LinearRegression\n",
        "from sklearn.model_selection import train_test_split\n",
        "import numpy as np\n",
        "import pandas as pd\n",
        "\n",
        "\n",
        "class Model:\n",
        "    def __init__(self, datafile, model_type = None):\n",
        "       self.datafile = datafile\n",
        "       self.df = pd.read_csv(datafile)\n",
        "       data_columns = ['Formatted Date', 'Summary', 'Precip Type', \n",
        "                       'Temperature (C)', 'Apparent Temperature (C)', \n",
        "                       'Humidity', 'Wind Speed (km/h)', 'Wind Bearing (degrees)',\n",
        "                       'Visibility (km)', 'Loud Cover', 'Pressure (millibars)','Daily Summary']\n",
        "       self.df.columns = data_columns\n",
        "\n",
        "       if model_type == 'rf':\n",
        "            self.user_defined_model = RandomForestRegressor() \n",
        "       else:\n",
        "            self.user_defined_model = LinearRegression()\n",
        "    #데이터셋 분리        \n",
        "    def split(self, test_size):\n",
        "        X = np.array(self.df[['Humidity', 'Pressure (millibars)']])\n",
        "        y = np.array(self.df['Temperature (C)'])\n",
        "        self.X_train, self.X_test, self.y_train, self.y_test = train_test_split(X, y, test_size = test_size, random_state = 42)\n",
        "    \n",
        "    #모형 피팅\n",
        "    def fit(self):\n",
        "        self.model = self.user_defined_model.fit(self.X_train, self.y_train)\n",
        "    \n",
        "    def predict(self, input_value):\n",
        "        if input_value == None:\n",
        "            result = self.user_defined_model.predict(self.X_test)\n",
        "        else: \n",
        "            result = self.user_defined_model.predict(np.array([input_value]))\n",
        "        return result"
      ],
      "execution_count": 13,
      "outputs": []
    },
    {
      "cell_type": "markdown",
      "metadata": {
        "id": "mt1yVV4pctwd",
        "colab_type": "text"
      },
      "source": [
        "# 클래스 재사용성 확인"
      ]
    },
    {
      "cell_type": "code",
      "metadata": {
        "id": "lcCEK-qNcq6i",
        "colab_type": "code",
        "colab": {
          "base_uri": "https://localhost:8080/",
          "height": 53
        },
        "outputId": "b08a93c3-61b6-42a2-c5da-6aa180cd7851"
      },
      "source": [
        "if __name__ == '__main__':\n",
        "    a_model = Model(datafile=\"weather.csv\", model_type=None)\n",
        "    a_model.split(0.2)\n",
        "    a_model.fit()    \n",
        "    print(a_model.predict([.9, 1000]))\n",
        "    print(\"Accuracy: \", a_model.model.score(a_model.X_test, a_model.y_test))"
      ],
      "execution_count": 14,
      "outputs": [
        {
          "output_type": "stream",
          "text": [
            "[6.83625473]\n",
            "Accuracy:  0.39578560465686424\n"
          ],
          "name": "stdout"
        }
      ]
    },
    {
      "cell_type": "markdown",
      "metadata": {
        "id": "H8x2-Kt8c93V",
        "colab_type": "text"
      },
      "source": [
        "- split(0.3)으로 줬을 때 정확성 차이"
      ]
    },
    {
      "cell_type": "code",
      "metadata": {
        "id": "tRXC6JhidFNF",
        "colab_type": "code",
        "colab": {
          "base_uri": "https://localhost:8080/",
          "height": 53
        },
        "outputId": "2735970d-0d2e-4dcd-d712-90f12a8b68a3"
      },
      "source": [
        "if __name__ == '__main__':\n",
        "    b_model = Model(datafile=\"weather2.csv\", model_type=None)\n",
        "    b_model.split(0.3)\n",
        "    b_model.fit()\n",
        "    print(b_model.predict([.9, 1000]))\n",
        "    print(\"Accuracy: \", b_model.model.score(b_model.X_test, b_model.y_test))"
      ],
      "execution_count": 15,
      "outputs": [
        {
          "output_type": "stream",
          "text": [
            "[7.15581866]\n",
            "Accuracy:  0.35698882811391797\n"
          ],
          "name": "stdout"
        }
      ]
    },
    {
      "cell_type": "markdown",
      "metadata": {
        "id": "pszZRqCYdJjF",
        "colab_type": "text"
      },
      "source": [
        "- 클래스 없이 정확도를 확인한다면,\n",
        "\n",
        "  -> 5개의 간단한 코드가 아닌 위의 '클래스 생성' 과정을 직접 다시 코딩해야함.\n",
        "\n",
        "  -> 클래스의 중요성\n",
        "  \n",
        "  -> 포폴에 클래스 위주로 작성, 현업에서 적용\n"
      ]
    },
    {
      "cell_type": "code",
      "metadata": {
        "id": "L6YaFwy3dGgd",
        "colab_type": "code",
        "colab": {}
      },
      "source": [
        ""
      ],
      "execution_count": null,
      "outputs": []
    }
  ]
}